{
  "nbformat": 4,
  "nbformat_minor": 0,
  "metadata": {
    "colab": {
      "name": "regex.ipynb",
      "provenance": [],
      "collapsed_sections": [],
      "toc_visible": true,
      "authorship_tag": "ABX9TyNw2FEWRc5SD04GlMh7LRDA",
      "include_colab_link": true
    },
    "kernelspec": {
      "name": "python3",
      "display_name": "Python 3"
    },
    "language_info": {
      "name": "python"
    }
  },
  "cells": [
    {
      "cell_type": "markdown",
      "metadata": {
        "id": "view-in-github",
        "colab_type": "text"
      },
      "source": [
        "<a href=\"https://colab.research.google.com/github/neuralsrg/Python-Projects/blob/main/regex.ipynb\" target=\"_parent\"><img src=\"https://colab.research.google.com/assets/colab-badge.svg\" alt=\"Open In Colab\"/></a>"
      ]
    },
    {
      "cell_type": "markdown",
      "source": [
        "# Regular expressions tutorial \n",
        "\n",
        "[Cheat Sheet](https://cheatography.com/davechild/cheat-sheets/regular-expressions/)"
      ],
      "metadata": {
        "id": "McVHVVSgCtKV"
      }
    },
    {
      "cell_type": "code",
      "execution_count": 1,
      "metadata": {
        "id": "Slr96jH4B-ad"
      },
      "outputs": [],
      "source": [
        "import re"
      ]
    },
    {
      "cell_type": "markdown",
      "source": [
        "## findall, match, search, finditer"
      ],
      "metadata": {
        "id": "Ywf8YWOxC9_r"
      }
    },
    {
      "cell_type": "code",
      "source": [
        "test_string = 'abc123ABC599abc_#abcc'\n",
        "pattern = re.compile(r'abc')"
      ],
      "metadata": {
        "id": "_VKZVMxcEPjI"
      },
      "execution_count": null,
      "outputs": []
    },
    {
      "cell_type": "code",
      "source": [
        "# findall \n",
        "matches = pattern.findall(test_string)\n",
        "type(matches), type(matches[0]) # list of strings which match the condition"
      ],
      "metadata": {
        "colab": {
          "base_uri": "https://localhost:8080/"
        },
        "id": "IB1yaUBmENjC",
        "outputId": "0758d1f0-c549-482b-9f4c-c2c1a2c43087"
      },
      "execution_count": null,
      "outputs": [
        {
          "output_type": "execute_result",
          "data": {
            "text/plain": [
              "(list, str)"
            ]
          },
          "metadata": {},
          "execution_count": 8
        }
      ]
    },
    {
      "cell_type": "code",
      "source": [
        "# match \n",
        "# returns match obj if pattern matches the beginning of string \n",
        "# else returns None\n",
        "pattern.match(test_string), pattern.match('hello_abc')"
      ],
      "metadata": {
        "colab": {
          "base_uri": "https://localhost:8080/"
        },
        "id": "O1isBfRCEnO_",
        "outputId": "15486d5d-b2cd-4f0f-e61c-df8ea4aec051"
      },
      "execution_count": null,
      "outputs": [
        {
          "output_type": "execute_result",
          "data": {
            "text/plain": [
              "(<re.Match object; span=(0, 3), match='abc'>, None)"
            ]
          },
          "metadata": {},
          "execution_count": 9
        }
      ]
    },
    {
      "cell_type": "code",
      "source": [
        "# pretty much like match but looks for the first occurrence of the match in the string\n",
        "pattern.search(test_string)"
      ],
      "metadata": {
        "colab": {
          "base_uri": "https://localhost:8080/"
        },
        "id": "jdQGJp_RFNrD",
        "outputId": "a0f97e68-991d-41ba-faf9-e8559dcc3e21"
      },
      "execution_count": null,
      "outputs": [
        {
          "output_type": "execute_result",
          "data": {
            "text/plain": [
              "<re.Match object; span=(0, 3), match='abc'>"
            ]
          },
          "metadata": {},
          "execution_count": 10
        }
      ]
    },
    {
      "cell_type": "code",
      "source": [
        "# finditer\n",
        "matches = pattern.finditer(test_string)\n",
        "for match in matches:\n",
        "  print(match)"
      ],
      "metadata": {
        "colab": {
          "base_uri": "https://localhost:8080/"
        },
        "id": "Ewh4TAcQCCPc",
        "outputId": "c3fc649f-1f0e-4581-a35c-4332f56b91fd"
      },
      "execution_count": null,
      "outputs": [
        {
          "output_type": "stream",
          "name": "stdout",
          "text": [
            "<re.Match object; span=(0, 3), match='abc'>\n",
            "<re.Match object; span=(12, 15), match='abc'>\n",
            "<re.Match object; span=(17, 20), match='abc'>\n"
          ]
        }
      ]
    },
    {
      "cell_type": "markdown",
      "source": [
        "On `match object` we can use: \n",
        "* `span` -- returns span tuple \n",
        "* `start` -- returns span start point\n",
        "* `end` -- returns span end point\n",
        "* `group` -- returns matched string"
      ],
      "metadata": {
        "id": "azyr6OLuPACL"
      }
    },
    {
      "cell_type": "code",
      "source": [
        "# the following code gives the same result\n",
        "matches = re.finditer(r'abc', test_string)"
      ],
      "metadata": {
        "id": "uprrgZ4TDS5S"
      },
      "execution_count": null,
      "outputs": []
    },
    {
      "cell_type": "markdown",
      "source": [
        "## Example with meta character"
      ],
      "metadata": {
        "id": "FNDyA0vhSk2f"
      }
    },
    {
      "cell_type": "code",
      "source": [
        "pattern = re.compile(r'ABC$') # $ means at the end\n",
        "str1 = 'helloABC_testABC'\n",
        "str2 = 'ABCABC_'\n",
        "for match in pattern.finditer(str1):\n",
        "  print(match)"
      ],
      "metadata": {
        "colab": {
          "base_uri": "https://localhost:8080/"
        },
        "id": "4Szks71ROtTx",
        "outputId": "f13b0c0e-19e0-4538-dcef-276f7f13739f"
      },
      "execution_count": null,
      "outputs": [
        {
          "output_type": "stream",
          "name": "stdout",
          "text": [
            "<re.Match object; span=(13, 16), match='ABC'>\n"
          ]
        }
      ]
    },
    {
      "cell_type": "code",
      "source": [
        "for match in pattern.finditer(str2):\n",
        "  print(match) # None"
      ],
      "metadata": {
        "id": "D7fc2TV9TB4-"
      },
      "execution_count": null,
      "outputs": []
    },
    {
      "cell_type": "markdown",
      "source": [
        "\n",
        "\n",
        "*   `\\d` searches for any digit character\n",
        "*   `\\D` searches for any non-digit character\n",
        "*   `\\s` any whitespace character (space / tab)\n",
        "*   `\\S` any non-whitespace character\n",
        "*   `\\b` at the beginning of any block (which are separeted by white spaces)\n",
        "\n",
        "\n",
        "    Example: re.finditer(r'\\bhello', 'hhello world _hello helloworld hihello') will find only one entry\n",
        "\n",
        "\n",
        "*   `\\b` at the end of any block (which are separeted by white spaces)\n",
        "*   We can also pass `set` of characters to look for: `r'[xyz]'`, `r'[a-z]'`, `r'[a-zA-Z]'`, `r'[0-9]'`, `r'[0-9-]'` will look also for `-`\n",
        "*   Quantifiers (can be found in a cheat sheet):\n",
        "\n",
        "\n",
        "    r'\\d+' will combine any digital sequences into a one match \n",
        "    r'_?\\d' will find any character with an optional leading underscore\n",
        "\n",
        "\n",
        "*   `\\d{3}` Will group digits into matches of length 3. We can also use ranges: `\\d{1, 3}` to combine groups of length 1-3"
      ],
      "metadata": {
        "id": "OfgJDnnxTyit"
      }
    },
    {
      "cell_type": "markdown",
      "source": [
        "## Conditions, grouping "
      ],
      "metadata": {
        "id": "kzG3IXL792GI"
      }
    },
    {
      "cell_type": "code",
      "source": [
        "test_string = \"\"\"\n",
        "8/20/2022\n",
        "Hello world!\n",
        "Mr Smith\n",
        "Mr. Brown\n",
        "Mrs Stone \n",
        "Ms Grunfeld \n",
        "Mrs. Brown\n",
        "\"\"\"\n",
        "\n",
        "pattern = re.compile(r'(Mr|Mrs|Ms)(\\.?\\s)(\\w+)') # we have 3 groups here\n",
        "matches = pattern.finditer(test_string)\n",
        "for match in matches:\n",
        "  print(match)\n",
        "  print('\\t', match.group(1)) # only the first group"
      ],
      "metadata": {
        "id": "eRZZoODWTHzh",
        "colab": {
          "base_uri": "https://localhost:8080/"
        },
        "outputId": "0e88a40a-cdf1-4f79-fd5a-abe85bf990c6"
      },
      "execution_count": 4,
      "outputs": [
        {
          "output_type": "stream",
          "name": "stdout",
          "text": [
            "<re.Match object; span=(24, 32), match='Mr Smith'>\n",
            "\t Mr\n",
            "<re.Match object; span=(33, 42), match='Mr. Brown'>\n",
            "\t Mr\n",
            "<re.Match object; span=(43, 52), match='Mrs Stone'>\n",
            "\t Mrs\n",
            "<re.Match object; span=(54, 65), match='Ms Grunfeld'>\n",
            "\t Ms\n",
            "<re.Match object; span=(67, 77), match='Mrs. Brown'>\n",
            "\t Mrs\n"
          ]
        }
      ]
    },
    {
      "cell_type": "markdown",
      "source": [
        "## split, sub"
      ],
      "metadata": {
        "id": "vleoE98WArAJ"
      }
    },
    {
      "cell_type": "code",
      "source": [
        "test_string = '123abchelloworldabc789'\n",
        "pattern = re.compile(r'abc')\n",
        "splitted = pattern.split(test_string)\n",
        "splitted"
      ],
      "metadata": {
        "colab": {
          "base_uri": "https://localhost:8080/"
        },
        "id": "EkxlKd4m-sEC",
        "outputId": "fa8f2089-2c46-4a89-985a-0ca7ee9a063a"
      },
      "execution_count": 5,
      "outputs": [
        {
          "output_type": "execute_result",
          "data": {
            "text/plain": [
              "['123', 'helloworld', '789']"
            ]
          },
          "metadata": {},
          "execution_count": 5
        }
      ]
    },
    {
      "cell_type": "code",
      "source": [
        "substituted = pattern.sub('xyz', test_string)\n",
        "substituted"
      ],
      "metadata": {
        "colab": {
          "base_uri": "https://localhost:8080/",
          "height": 35
        },
        "id": "wDnkoK8eA9Az",
        "outputId": "4fa4175c-7875-4c36-ca9b-3e0e23d2e68d"
      },
      "execution_count": 7,
      "outputs": [
        {
          "output_type": "execute_result",
          "data": {
            "text/plain": [
              "'123xyzhelloworldxyz789'"
            ],
            "application/vnd.google.colaboratory.intrinsic+json": {
              "type": "string"
            }
          },
          "metadata": {},
          "execution_count": 7
        }
      ]
    },
    {
      "cell_type": "markdown",
      "source": [
        "### Example:\n"
      ],
      "metadata": {
        "id": "95hGljByCwQO"
      }
    },
    {
      "cell_type": "code",
      "source": [
        "urls = \"\"\"\n",
        "https://www.google.com\n",
        "http://youtube.com\n",
        "https://www.some-website.de\n",
        "\"\"\"\n",
        "\n",
        "pattern = re.compile(r'https?://(www\\.)?([a-zA-z-]+)(\\.[a-zA-Z]+)')\n",
        "subbed = pattern.sub(r'\\2\\3', urls)\n",
        "print(subbed)"
      ],
      "metadata": {
        "colab": {
          "base_uri": "https://localhost:8080/"
        },
        "id": "AjAgIJBbBOKl",
        "outputId": "137c7bfc-ce28-4bd3-db8d-386b4fd4e8a7"
      },
      "execution_count": 11,
      "outputs": [
        {
          "output_type": "stream",
          "name": "stdout",
          "text": [
            "\n",
            "google.com\n",
            "youtube.com\n",
            "some-website.de\n",
            "\n"
          ]
        }
      ]
    },
    {
      "cell_type": "markdown",
      "source": [
        "## [Compilation flags](https://docs.python.org/3/howto/regex.html#compilation-flags)"
      ],
      "metadata": {
        "id": "W9138FL8GOl5"
      }
    }
  ]
}